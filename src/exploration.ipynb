{
 "cells": [
  {
   "cell_type": "markdown",
   "metadata": {
    "pycharm": {
     "name": "#%% md\n"
    }
   },
   "source": [
    "# Explorations"
   ]
  },
  {
   "cell_type": "markdown",
   "metadata": {
    "pycharm": {
     "name": "#%% md\n"
    }
   },
   "source": [
    "## Import packages and load data"
   ]
  },
  {
   "cell_type": "markdown",
   "metadata": {
    "pycharm": {
     "name": "#%% md\n"
    }
   },
   "source": [
    "### Packages"
   ]
  },
  {
   "cell_type": "code",
   "execution_count": 1,
   "metadata": {
    "pycharm": {
     "name": "#%%\n"
    }
   },
   "outputs": [],
   "source": [
    "import pandas as pd\n",
    "from pathlib import Path\n",
    "from stopwords_loader import *\n",
    "\n",
    "import matplotlib.pyplot as plt\n",
    "import numpy as np\n",
    "plt.rcParams.update({'font.size': 22})"
   ]
  },
  {
   "cell_type": "markdown",
   "metadata": {
    "pycharm": {
     "name": "#%% md\n"
    }
   },
   "source": [
    "### Lexicons and corpus"
   ]
  },
  {
   "cell_type": "code",
   "execution_count": 2,
   "metadata": {
    "pycharm": {
     "name": "#%%\n"
    }
   },
   "outputs": [],
   "source": [
    "anew_lexicon_path = Path('..', 'lexicon', 'ANEW2017', 'ANEW2017All.txt')\n",
    "anew_lexicon = pd.read_csv(anew_lexicon_path, sep='\\t')\n",
    "anew_lexicon_list = anew_lexicon.Word.to_list()\n"
   ]
  },
  {
   "cell_type": "code",
   "execution_count": 3,
   "metadata": {
    "pycharm": {
     "name": "#%%\n"
    }
   },
   "outputs": [],
   "source": [
    "nrc_lexicon_path = Path('..', 'lexicon', 'NRC-VAD-Lexicon-Aug2018Release', 'NRC-VAD-Lexicon.txt')\n",
    "nrc_lexicon = pd.read_csv(nrc_lexicon_path, sep='\\t', names=['Word', 'Valence', 'Arousal', 'Dominance'])\n",
    "nrc_lexicon_list = nrc_lexicon.Word.to_list()"
   ]
  },
  {
   "cell_type": "code",
   "execution_count": 4,
   "metadata": {
    "pycharm": {
     "name": "#%%\n"
    }
   },
   "outputs": [
    {
     "data": {
      "text/plain": "3094"
     },
     "execution_count": 4,
     "metadata": {},
     "output_type": "execute_result"
    }
   ],
   "source": [
    "len(set(nrc_lexicon_list).intersection(set(anew_lexicon_list)))"
   ]
  },
  {
   "cell_type": "code",
   "execution_count": 5,
   "metadata": {
    "pycharm": {
     "name": "#%%\n"
    }
   },
   "outputs": [
    {
     "data": {
      "text/plain": "      Party         Handle                                              Tweet\n0  Democrat  RepDarrenSoto  Today, Senate Dems vote to #SaveTheInternet. P...\n1  Democrat  RepDarrenSoto  RT @WinterHavenSun: Winter Haven resident / Al...\n2  Democrat  RepDarrenSoto  RT @NBCLatino: .@RepDarrenSoto noted that Hurr...",
      "text/html": "<div>\n<style scoped>\n    .dataframe tbody tr th:only-of-type {\n        vertical-align: middle;\n    }\n\n    .dataframe tbody tr th {\n        vertical-align: top;\n    }\n\n    .dataframe thead th {\n        text-align: right;\n    }\n</style>\n<table border=\"1\" class=\"dataframe\">\n  <thead>\n    <tr style=\"text-align: right;\">\n      <th></th>\n      <th>Party</th>\n      <th>Handle</th>\n      <th>Tweet</th>\n    </tr>\n  </thead>\n  <tbody>\n    <tr>\n      <th>0</th>\n      <td>Democrat</td>\n      <td>RepDarrenSoto</td>\n      <td>Today, Senate Dems vote to #SaveTheInternet. P...</td>\n    </tr>\n    <tr>\n      <th>1</th>\n      <td>Democrat</td>\n      <td>RepDarrenSoto</td>\n      <td>RT @WinterHavenSun: Winter Haven resident / Al...</td>\n    </tr>\n    <tr>\n      <th>2</th>\n      <td>Democrat</td>\n      <td>RepDarrenSoto</td>\n      <td>RT @NBCLatino: .@RepDarrenSoto noted that Hurr...</td>\n    </tr>\n  </tbody>\n</table>\n</div>"
     },
     "execution_count": 5,
     "metadata": {},
     "output_type": "execute_result"
    }
   ],
   "source": [
    "data_df = pd.read_csv('../data/tweets/ExtractedTweets.csv')\n",
    "data_df.head(3)"
   ]
  },
  {
   "cell_type": "code",
   "execution_count": 6,
   "metadata": {
    "pycharm": {
     "name": "#%%\n"
    }
   },
   "outputs": [],
   "source": [
    "text_list = data_df.Tweet.to_list()"
   ]
  },
  {
   "cell_type": "markdown",
   "metadata": {},
   "source": [
    "### Stopwords"
   ]
  },
  {
   "cell_type": "code",
   "execution_count": 13,
   "metadata": {
    "pycharm": {
     "name": "#%%\n"
    }
   },
   "outputs": [],
   "source": [
    "procedural_words = load_procedural_words()\n",
    "nltk_stopwords = load_nltk_stopwords()\n",
    "ordinal_cardinal_words = load_number_words()"
   ]
  },
  {
   "cell_type": "markdown",
   "metadata": {
    "pycharm": {
     "name": "#%% md\n"
    }
   },
   "source": [
    "The names of months, weekdays, human names, cities, states, and counties will be removed only when the first letter is capital"
   ]
  },
  {
   "cell_type": "markdown",
   "metadata": {
    "pycharm": {
     "name": "#%% md\n"
    }
   },
   "source": [
    "## Lexicons and stopwords exploration"
   ]
  },
  {
   "cell_type": "code",
   "execution_count": 14,
   "metadata": {
    "pycharm": {
     "name": "#%%\n"
    }
   },
   "outputs": [
    {
     "name": "stdout",
     "output_type": "stream",
     "text": [
      "The numbers of NRC / ANEW lexicons\n",
      "19971 \n",
      " 3188\n"
     ]
    }
   ],
   "source": [
    "print(\"The numbers of NRC / ANEW lexicons\")\n",
    "print(len(nrc_lexicon),\n",
    "      '\\n',\n",
    "      len(anew_lexicon))"
   ]
  },
  {
   "cell_type": "code",
   "execution_count": 15,
   "metadata": {
    "pycharm": {
     "name": "#%%\n"
    }
   },
   "outputs": [],
   "source": [
    "def plot_lexicon_hist(lexicon_df, val_col, aro_col, dom_col, bins=8, min=1, max=9, xlabel_rot=None):\n",
    "      if xlabel_rot is None:\n",
    "            xlabel_rot = 0\n",
    "      fig, axs = plt.subplots(1, 3, figsize=(21,7))\n",
    "      axs = axs.ravel()\n",
    "      mapping_dict = {\n",
    "            'Valence': val_col,\n",
    "            'Arousal': aro_col,\n",
    "            'Dominance': dom_col\n",
    "      }\n",
    "      for i, d in enumerate(mapping_dict.keys()):\n",
    "            lexicon_df[mapping_dict[d]].hist(bins=bins, ax=axs[i], histtype='bar', ec='black', grid=False)\n",
    "            axs[i].set_title(d, fontsize=22)\n",
    "            axs[i].tick_params(axis='both', which='major', labelsize=14)\n",
    "            axs[i].set_xticks(np.linspace(min,max,bins+1))\n",
    "            axs[i].tick_params('x', labelrotation=xlabel_rot)\n",
    "            axs[i].set_xlabel('Score', fontsize=16)\n",
    "            axs[i].set_ylabel('Count', fontsize=16)\n",
    "            # axs[i].set_xticks()\n",
    "      # plt.tight_layout()\n",
    "\n",
    "      plt.show()"
   ]
  },
  {
   "cell_type": "code",
   "execution_count": 16,
   "metadata": {
    "pycharm": {
     "name": "#%%\n"
    }
   },
   "outputs": [
    {
     "name": "stdout",
     "output_type": "stream",
     "text": [
      "ANEW\n"
     ]
    },
    {
     "data": {
      "text/plain": "<Figure size 1512x504 with 3 Axes>",
      "image/png": "[encoded data removed]"
     },
     "metadata": {
      "needs_background": "light"
     },
     "output_type": "display_data"
    }
   ],
   "source": [
    "# %matplotlib inline\n",
    "print(\"ANEW\")\n",
    "plot_lexicon_hist(anew_lexicon, 'ValMn', 'AroMn', 'DomMn')"
   ]
  },
  {
   "cell_type": "code",
   "execution_count": 17,
   "metadata": {
    "pycharm": {
     "name": "#%%\n"
    }
   },
   "outputs": [
    {
     "name": "stdout",
     "output_type": "stream",
     "text": [
      "NRC\n"
     ]
    },
    {
     "data": {
      "text/plain": "<Figure size 1512x504 with 3 Axes>",
      "image/png": "[encoded data removed]"
     },
     "metadata": {
      "needs_background": "light"
     },
     "output_type": "display_data"
    }
   ],
   "source": [
    "%matplotlib inline\n",
    "print(\"NRC\")\n",
    "plot_lexicon_hist(nrc_lexicon, 'Valence', 'Arousal', 'Dominance', bins=8, min=0, max=1, xlabel_rot=-25)"
   ]
  },
  {
   "cell_type": "code",
   "execution_count": 18,
   "metadata": {
    "pycharm": {
     "name": "#%%\n"
    }
   },
   "outputs": [
    {
     "name": "stdout",
     "output_type": "stream",
     "text": [
      "Overlapping between NLTK stopwords and NRC / ANEW lexicons\n",
      "set() \n",
      " set()\n"
     ]
    }
   ],
   "source": [
    "print(\"Overlapping between NLTK stopwords and NRC / ANEW lexicons\")\n",
    "print(set(nltk_stopwords).intersection(set(nrc_lexicon)),\n",
    "      '\\n',\n",
    "      set(nltk_stopwords).intersection(set(anew_lexicon)))"
   ]
  },
  {
   "cell_type": "code",
   "execution_count": 19,
   "metadata": {
    "pycharm": {
     "name": "#%%\n"
    }
   },
   "outputs": [
    {
     "name": "stdout",
     "output_type": "stream",
     "text": [
      "Overlapping between procedural words and NRC / ANEW lexicons\n",
      "set() \n",
      " set()\n"
     ]
    }
   ],
   "source": [
    "print(\"Overlapping between procedural words and NRC / ANEW lexicons\")\n",
    "print(set(procedural_words).intersection(set(nrc_lexicon)),\n",
    "      '\\n',\n",
    "      set(procedural_words).intersection(set(anew_lexicon)))"
   ]
  },
  {
   "cell_type": "code",
   "execution_count": 20,
   "metadata": {
    "pycharm": {
     "name": "#%%\n"
    }
   },
   "outputs": [
    {
     "name": "stdout",
     "output_type": "stream",
     "text": [
      "Overlapping between ordinal and cardinal number words and NRC / ANEW lexicons\n",
      "set() \n",
      " set()\n"
     ]
    }
   ],
   "source": [
    "print(\"Overlapping between ordinal and cardinal number words and NRC / ANEW lexicons\")\n",
    "print(set(ordinal_cardinal_words).intersection(set(nrc_lexicon)),\n",
    "      '\\n',\n",
    "      set(ordinal_cardinal_words).intersection(set(anew_lexicon)))"
   ]
  },
  {
   "cell_type": "markdown",
   "metadata": {
    "pycharm": {
     "name": "#%% md\n"
    }
   },
   "source": [
    "**Although the NRC lexicon has more data, ANEW might be more suitable for political text.**"
   ]
  },
  {
   "cell_type": "markdown",
   "metadata": {
    "pycharm": {
     "name": "#%% md\n"
    }
   },
   "source": [
    "## Data exploration"
   ]
  },
  {
   "cell_type": "code",
   "execution_count": 21,
   "metadata": {
    "pycharm": {
     "name": "#%%\n"
    }
   },
   "outputs": [
    {
     "data": {
      "text/plain": "86460"
     },
     "execution_count": 21,
     "metadata": {},
     "output_type": "execute_result"
    }
   ],
   "source": [
    "len(data_df)"
   ]
  },
  {
   "cell_type": "code",
   "execution_count": 22,
   "metadata": {
    "pycharm": {
     "name": "#%%\n"
    }
   },
   "outputs": [
    {
     "data": {
      "text/plain": "Party\nDemocrat      42068\nRepublican    44392\nName: Tweet, dtype: int64"
     },
     "execution_count": 22,
     "metadata": {},
     "output_type": "execute_result"
    }
   ],
   "source": [
    "data_df.groupby('Party').count().Tweet"
   ]
  },
  {
   "cell_type": "code",
   "execution_count": 23,
   "metadata": {
    "pycharm": {
     "name": "#%%\n"
    }
   },
   "outputs": [
    {
     "data": {
      "text/plain": "count    211.000000\nmean     199.374408\nstd        8.262198\nmin       80.000000\n25%      200.000000\n50%      200.000000\n75%      200.000000\nmax      200.000000\nName: Tweet, dtype: float64"
     },
     "execution_count": 23,
     "metadata": {},
     "output_type": "execute_result"
    }
   ],
   "source": [
    "data_df[data_df.Party=='Democrat'].groupby('Handle').count().Tweet.describe()"
   ]
  },
  {
   "cell_type": "code",
   "execution_count": 24,
   "metadata": {
    "pycharm": {
     "name": "#%%\n"
    }
   },
   "outputs": [
    {
     "data": {
      "text/plain": "count    222.000000\nmean     199.963964\nstd        0.249086\nmin      197.000000\n25%      200.000000\n50%      200.000000\n75%      200.000000\nmax      200.000000\nName: Tweet, dtype: float64"
     },
     "execution_count": 24,
     "metadata": {},
     "output_type": "execute_result"
    }
   ],
   "source": [
    "data_df[data_df.Party=='Republican'].groupby('Handle').count().Tweet.describe()"
   ]
  },
  {
   "cell_type": "code",
   "execution_count": null,
   "outputs": [],
   "source": [],
   "metadata": {
    "collapsed": false,
    "pycharm": {
     "name": "#%%\n"
    }
   }
  }
 ],
 "metadata": {
  "kernelspec": {
   "display_name": "Python 3 (ipykernel)",
   "language": "python",
   "name": "python3"
  },
  "language_info": {
   "codemirror_mode": {
    "name": "ipython",
    "version": 3
   },
   "file_extension": ".py",
   "mimetype": "text/x-python",
   "name": "python",
   "nbconvert_exporter": "python",
   "pygments_lexer": "ipython3",
   "version": "3.8.12"
  }
 },
 "nbformat": 4,
 "nbformat_minor": 1
}