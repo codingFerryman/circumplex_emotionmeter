{
 "cells": [
  {
   "cell_type": "markdown",
   "metadata": {
    "pycharm": {
     "name": "#%% md\n"
    }
   },
   "source": [
    "# Explorations"
   ]
  },
  {
   "cell_type": "markdown",
   "metadata": {
    "pycharm": {
     "name": "#%% md\n"
    }
   },
   "source": [
    "## Import packages and load data"
   ]
  },
  {
   "cell_type": "markdown",
   "metadata": {
    "pycharm": {
     "name": "#%% md\n"
    }
   },
   "source": [
    "### Packages"
   ]
  },
  {
   "cell_type": "code",
   "execution_count": 115,
   "metadata": {
    "pycharm": {
     "name": "#%%\n"
    }
   },
   "outputs": [],
   "source": [
    "import matplotlib.pyplot as plt\n",
    "import pandas as pd\n",
    "from pathlib import Path\n",
    "from stopwords_loader import *\n"
   ]
  },
  {
   "cell_type": "markdown",
   "metadata": {
    "pycharm": {
     "name": "#%% md\n"
    }
   },
   "source": [
    "### Lexicons and corpus"
   ]
  },
  {
   "cell_type": "code",
   "execution_count": 116,
   "metadata": {
    "pycharm": {
     "name": "#%%\n"
    }
   },
   "outputs": [],
   "source": [
    "anew_lexicon_path = Path('lexicon', 'ANEW2017', 'ANEW2017All.txt')\n",
    "anew_lexicon = pd.read_csv(anew_lexicon_path, sep='\\t')\n",
    "anew_lexicon_list = anew_lexicon.Word.to_list()\n"
   ]
  },
  {
   "cell_type": "code",
   "execution_count": 117,
   "metadata": {
    "pycharm": {
     "name": "#%%\n"
    }
   },
   "outputs": [],
   "source": [
    "nrc_lexicon_path = Path('lexicon', 'NRC-VAD-Lexicon-Aug2018Release', 'NRC-VAD-Lexicon.txt')\n",
    "nrc_lexicon = pd.read_csv(nrc_lexicon_path, sep='\\t', names=['Word', 'Valence', 'Arousal', 'Dominance'])\n",
    "nrc_lexicon_list = nrc_lexicon.Word.to_list()"
   ]
  },
  {
   "cell_type": "code",
   "execution_count": 119,
   "outputs": [
    {
     "data": {
      "text/plain": "3094"
     },
     "execution_count": 119,
     "metadata": {},
     "output_type": "execute_result"
    }
   ],
   "source": [
    "len(set(nrc_lexicon_list).intersection(set(anew_lexicon_list)))"
   ],
   "metadata": {
    "collapsed": false,
    "pycharm": {
     "name": "#%%\n"
    }
   }
  },
  {
   "cell_type": "code",
   "execution_count": 59,
   "metadata": {
    "pycharm": {
     "name": "#%%\n"
    }
   },
   "outputs": [
    {
     "data": {
      "text/html": [
       "<div>\n",
       "<style scoped>\n",
       "    .dataframe tbody tr th:only-of-type {\n",
       "        vertical-align: middle;\n",
       "    }\n",
       "\n",
       "    .dataframe tbody tr th {\n",
       "        vertical-align: top;\n",
       "    }\n",
       "\n",
       "    .dataframe thead th {\n",
       "        text-align: right;\n",
       "    }\n",
       "</style>\n",
       "<table border=\"1\" class=\"dataframe\">\n",
       "  <thead>\n",
       "    <tr style=\"text-align: right;\">\n",
       "      <th></th>\n",
       "      <th>Party</th>\n",
       "      <th>Handle</th>\n",
       "      <th>Tweet</th>\n",
       "    </tr>\n",
       "  </thead>\n",
       "  <tbody>\n",
       "    <tr>\n",
       "      <th>0</th>\n",
       "      <td>Democrat</td>\n",
       "      <td>RepDarrenSoto</td>\n",
       "      <td>Today, Senate Dems vote to #SaveTheInternet. P...</td>\n",
       "    </tr>\n",
       "    <tr>\n",
       "      <th>1</th>\n",
       "      <td>Democrat</td>\n",
       "      <td>RepDarrenSoto</td>\n",
       "      <td>RT @WinterHavenSun: Winter Haven resident / Al...</td>\n",
       "    </tr>\n",
       "    <tr>\n",
       "      <th>2</th>\n",
       "      <td>Democrat</td>\n",
       "      <td>RepDarrenSoto</td>\n",
       "      <td>RT @NBCLatino: .@RepDarrenSoto noted that Hurr...</td>\n",
       "    </tr>\n",
       "  </tbody>\n",
       "</table>\n",
       "</div>"
      ],
      "text/plain": [
       "      Party         Handle                                              Tweet\n",
       "0  Democrat  RepDarrenSoto  Today, Senate Dems vote to #SaveTheInternet. P...\n",
       "1  Democrat  RepDarrenSoto  RT @WinterHavenSun: Winter Haven resident / Al...\n",
       "2  Democrat  RepDarrenSoto  RT @NBCLatino: .@RepDarrenSoto noted that Hurr..."
      ]
     },
     "execution_count": 59,
     "metadata": {},
     "output_type": "execute_result"
    }
   ],
   "source": [
    "data_df = pd.read_csv('data/tweets/ExtractedTweets.csv')\n",
    "data_df.head(3)"
   ]
  },
  {
   "cell_type": "code",
   "execution_count": 60,
   "metadata": {
    "pycharm": {
     "name": "#%%\n"
    }
   },
   "outputs": [],
   "source": [
    "text_list = data_df.Tweet.to_list()"
   ]
  },
  {
   "cell_type": "markdown",
   "metadata": {},
   "source": [
    "### Stopwords"
   ]
  },
  {
   "cell_type": "code",
   "execution_count": 46,
   "metadata": {
    "pycharm": {
     "name": "#%%\n"
    }
   },
   "outputs": [],
   "source": [
    "procedural_words = load_procedural_words()\n",
    "nltk_stopwords = load_nltk_stopwords()\n",
    "ordinal_cardinal_words = load_number_words()"
   ]
  },
  {
   "cell_type": "markdown",
   "metadata": {
    "pycharm": {
     "name": "#%% md\n"
    }
   },
   "source": [
    "The names of months, weekdays, human names, cities, states, and counties will be removed only when the first letter is capital"
   ]
  },
  {
   "cell_type": "markdown",
   "metadata": {
    "pycharm": {
     "name": "#%% md\n"
    }
   },
   "source": [
    "## Lexicons and stopwords exploration"
   ]
  },
  {
   "cell_type": "code",
   "execution_count": 61,
   "metadata": {
    "pycharm": {
     "name": "#%%\n"
    }
   },
   "outputs": [
    {
     "name": "stdout",
     "output_type": "stream",
     "text": [
      "The numbers of NRC / ANEW lexicons\n",
      "19971 \n",
      " 3188\n"
     ]
    }
   ],
   "source": [
    "print(\"The numbers of NRC / ANEW lexicons\")\n",
    "print(len(nrc_lexicon),\n",
    "      '\\n',\n",
    "      len(anew_lexicon))"
   ]
  },
  {
   "cell_type": "code",
   "execution_count": 84,
   "metadata": {
    "pycharm": {
     "name": "#%%\n"
    }
   },
   "outputs": [],
   "source": [
    "def plot_lexicon_hist(lexicon_df, val_col, aro_col, dom_col):\n",
    "      fig, axs = plt.subplots(1, 3, figsize=(15,5))\n",
    "      axs = axs.ravel()\n",
    "      lexicon_df[val_col].hist(bins=9, ax=axs[0])\n",
    "      axs[0].set_title('Valence')\n",
    "      lexicon_df[aro_col].hist(bins=9, ax=axs[1])\n",
    "      axs[1].set_title('Arousal')\n",
    "      lexicon_df[dom_col].hist(bins=9, ax=axs[2])\n",
    "      axs[2].set_title('Dominance')\n",
    "      plt.show()"
   ]
  },
  {
   "cell_type": "code",
   "execution_count": 85,
   "metadata": {
    "pycharm": {
     "name": "#%%\n"
    }
   },
   "outputs": [
    {
     "name": "stdout",
     "output_type": "stream",
     "text": [
      "ANEW\n"
     ]
    },
    {
     "data": {
      "image/png": "[encoded data removed]",
      "text/plain": [
       "<Figure size 1080x360 with 3 Axes>"
      ]
     },
     "metadata": {
      "needs_background": "light"
     },
     "output_type": "display_data"
    }
   ],
   "source": [
    "%matplotlib inline\n",
    "print(\"ANEW\")\n",
    "plot_lexicon_hist(anew_lexicon, 'ValMn', 'AroMn', 'DomMn')"
   ]
  },
  {
   "cell_type": "code",
   "execution_count": 86,
   "metadata": {
    "pycharm": {
     "name": "#%%\n"
    }
   },
   "outputs": [
    {
     "name": "stdout",
     "output_type": "stream",
     "text": [
      "NRC\n"
     ]
    },
    {
     "data": {
      "image/png": "[encoded data removed]",
      "text/plain": [
       "<Figure size 1080x360 with 3 Axes>"
      ]
     },
     "metadata": {
      "needs_background": "light"
     },
     "output_type": "display_data"
    }
   ],
   "source": [
    "%matplotlib inline\n",
    "print(\"NRC\")\n",
    "plot_lexicon_hist(nrc_lexicon, 'Valence', 'Arousal', 'Dominance')"
   ]
  },
  {
   "cell_type": "code",
   "execution_count": 53,
   "metadata": {
    "pycharm": {
     "name": "#%%\n"
    }
   },
   "outputs": [
    {
     "name": "stdout",
     "output_type": "stream",
     "text": [
      "Overlapping between NLTK stopwords and NRC / ANEW lexicons\n",
      "{'can', 'will', 'have', 'be', 'haven', 'other', 'down', 'don', 'do'} \n",
      " {'me', 'haven'}\n"
     ]
    }
   ],
   "source": [
    "print(\"Overlapping between NLTK stopwords and NRC / ANEW lexicons\")\n",
    "print(set(nltk_stopwords).intersection(set(nrc_lexicon)),\n",
    "      '\\n',\n",
    "      set(nltk_stopwords).intersection(set(anew_lexicon)))"
   ]
  },
  {
   "cell_type": "code",
   "execution_count": 54,
   "metadata": {
    "pycharm": {
     "name": "#%%\n"
    }
   },
   "outputs": [
    {
     "name": "stdout",
     "output_type": "stream",
     "text": [
      "Overlapping between procedural words and NRC / ANEW lexicons\n",
      "{'democrat', 'house', 'speaker', 'chair', 'state', 'gentleman', 'republican', 'yield', 'congressman', 'floor', 'senator', 'chairman', 'committee', 'member', 'senate', 'congress'} \n",
      " {'house', 'chair', 'gentleman', 'committee', 'member'}\n"
     ]
    }
   ],
   "source": [
    "print(\"Overlapping between procedural words and NRC / ANEW lexicons\")\n",
    "print(set(procedural_words).intersection(set(nrc_lexicon)),\n",
    "      '\\n',\n",
    "      set(procedural_words).intersection(set(anew_lexicon)))"
   ]
  },
  {
   "cell_type": "code",
   "execution_count": 55,
   "metadata": {
    "pycharm": {
     "name": "#%%\n"
    }
   },
   "outputs": [
    {
     "name": "stdout",
     "output_type": "stream",
     "text": [
      "Overlapping between ordinal and cardinal number words and NRC / ANEW lexicons\n",
      "{'ten', 'fourth', 'eight', 'third', 'tenth', 'eighteen', 'thirty', 'twentieth', 'second', 'ninth', 'three', 'eleven', 'thirteenth', 'ninety', 'twelve', 'eighty', 'fifty', 'sixteen', 'forty', 'twelfth', 'sixty', 'eighth', 'nine', 'seventeen', 'twenty', 'first', 'fourteen', 'nineteen', 'four', 'thirteen', 'seventh', 'fifteen', 'six', 'eleventh', 'one', 'sixth', 'two', 'seven', 'seventy', 'five'} \n",
      " {'twelve', 'first', 'nine'}\n"
     ]
    }
   ],
   "source": [
    "print(\"Overlapping between ordinal and cardinal number words and NRC / ANEW lexicons\")\n",
    "print(set(ordinal_cardinal_words).intersection(set(nrc_lexicon)),\n",
    "      '\\n',\n",
    "      set(ordinal_cardinal_words).intersection(set(anew_lexicon)))"
   ]
  },
  {
   "cell_type": "markdown",
   "metadata": {
    "pycharm": {
     "name": "#%% md\n"
    }
   },
   "source": [
    "**Although the NRC lexicon has more data, ANEW might be more suitable for political text.**"
   ]
  },
  {
   "cell_type": "markdown",
   "metadata": {
    "pycharm": {
     "name": "#%% md\n"
    }
   },
   "source": [
    "## Data exploration"
   ]
  },
  {
   "cell_type": "code",
   "execution_count": 98,
   "metadata": {
    "pycharm": {
     "name": "#%%\n"
    }
   },
   "outputs": [
    {
     "data": {
      "text/plain": [
       "86460"
      ]
     },
     "execution_count": 98,
     "metadata": {},
     "output_type": "execute_result"
    }
   ],
   "source": [
    "len(data_df)"
   ]
  },
  {
   "cell_type": "code",
   "execution_count": 112,
   "metadata": {
    "pycharm": {
     "name": "#%%\n"
    }
   },
   "outputs": [
    {
     "data": {
      "text/plain": [
       "Party\n",
       "Democrat      42068\n",
       "Republican    44392\n",
       "Name: Tweet, dtype: int64"
      ]
     },
     "execution_count": 112,
     "metadata": {},
     "output_type": "execute_result"
    }
   ],
   "source": [
    "data_df.groupby('Party').count().Tweet"
   ]
  },
  {
   "cell_type": "code",
   "execution_count": 113,
   "metadata": {
    "pycharm": {
     "name": "#%%\n"
    }
   },
   "outputs": [
    {
     "data": {
      "text/plain": [
       "count    211.000000\n",
       "mean     199.374408\n",
       "std        8.262198\n",
       "min       80.000000\n",
       "25%      200.000000\n",
       "50%      200.000000\n",
       "75%      200.000000\n",
       "max      200.000000\n",
       "Name: Tweet, dtype: float64"
      ]
     },
     "execution_count": 113,
     "metadata": {},
     "output_type": "execute_result"
    }
   ],
   "source": [
    "data_df[data_df.Party=='Democrat'].groupby('Handle').count().Tweet.describe()"
   ]
  },
  {
   "cell_type": "code",
   "execution_count": 114,
   "metadata": {
    "pycharm": {
     "name": "#%%\n"
    }
   },
   "outputs": [
    {
     "data": {
      "text/plain": [
       "count    222.000000\n",
       "mean     199.963964\n",
       "std        0.249086\n",
       "min      197.000000\n",
       "25%      200.000000\n",
       "50%      200.000000\n",
       "75%      200.000000\n",
       "max      200.000000\n",
       "Name: Tweet, dtype: float64"
      ]
     },
     "execution_count": 114,
     "metadata": {},
     "output_type": "execute_result"
    }
   ],
   "source": [
    "data_df[data_df.Party=='Republican'].groupby('Handle').count().Tweet.describe()"
   ]
  },
  {
   "cell_type": "code",
   "execution_count": null,
   "metadata": {
    "pycharm": {
     "name": "#%%\n"
    }
   },
   "outputs": [],
   "source": []
  }
 ],
 "metadata": {
  "kernelspec": {
   "display_name": "Python 3 (ipykernel)",
   "language": "python",
   "name": "python3"
  },
  "language_info": {
   "codemirror_mode": {
    "name": "ipython",
    "version": 3
   },
   "file_extension": ".py",
   "mimetype": "text/x-python",
   "name": "python",
   "nbconvert_exporter": "python",
   "pygments_lexer": "ipython3",
   "version": "3.8.12"
  }
 },
 "nbformat": 4,
 "nbformat_minor": 1
}