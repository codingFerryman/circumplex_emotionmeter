{
 "cells": [
  {
   "cell_type": "code",
   "execution_count": 2,
   "metadata": {},
   "outputs": [],
   "source": [
    "# Load packages\n",
    "import pandas as pd\n",
    "import matplotlib.pyplot as plt\n",
    "import seaborn as sns"
   ]
  },
  {
   "cell_type": "code",
   "execution_count": 3,
   "metadata": {
    "pycharm": {
     "name": "#%%\n"
    }
   },
   "outputs": [
    {
     "data": {
      "text/plain": "            Party        Handle  \\\n50019  Republican   RepTomEmmer   \n7710     Democrat    PeterWelch   \n47231  Republican  RepRickAllen   \n\n                                                   Tweet   valence   arousal  \\\n50019  RT @ChamberDigital: .@RepTomEmmer: Lawmakers s...  0.638009  0.422799   \n7710   Replacing vital SNAP funding that over 75,000 ...  0.349794 -0.186777   \n47231  Please join me in thanking the brave men and w...  0.656357  0.001712   \n\n       valence_ratio  arousal_ratio  token language          hashtags  \\\n50019       2.762500       1.732500      9       af        blockchain   \n7710        1.537975       0.813223     12       en               NaN   \n47231       2.910000       1.001715     10       en  GA12 BackTheBlue   \n\n       hashtags_length  \n50019                1  \n7710                 0  \n47231                2  ",
      "text/html": "<div>\n<style scoped>\n    .dataframe tbody tr th:only-of-type {\n        vertical-align: middle;\n    }\n\n    .dataframe tbody tr th {\n        vertical-align: top;\n    }\n\n    .dataframe thead th {\n        text-align: right;\n    }\n</style>\n<table border=\"1\" class=\"dataframe\">\n  <thead>\n    <tr style=\"text-align: right;\">\n      <th></th>\n      <th>Party</th>\n      <th>Handle</th>\n      <th>Tweet</th>\n      <th>valence</th>\n      <th>arousal</th>\n      <th>valence_ratio</th>\n      <th>arousal_ratio</th>\n      <th>token</th>\n      <th>language</th>\n      <th>hashtags</th>\n      <th>hashtags_length</th>\n    </tr>\n  </thead>\n  <tbody>\n    <tr>\n      <th>50019</th>\n      <td>Republican</td>\n      <td>RepTomEmmer</td>\n      <td>RT @ChamberDigital: .@RepTomEmmer: Lawmakers s...</td>\n      <td>0.638009</td>\n      <td>0.422799</td>\n      <td>2.762500</td>\n      <td>1.732500</td>\n      <td>9</td>\n      <td>af</td>\n      <td>blockchain</td>\n      <td>1</td>\n    </tr>\n    <tr>\n      <th>7710</th>\n      <td>Democrat</td>\n      <td>PeterWelch</td>\n      <td>Replacing vital SNAP funding that over 75,000 ...</td>\n      <td>0.349794</td>\n      <td>-0.186777</td>\n      <td>1.537975</td>\n      <td>0.813223</td>\n      <td>12</td>\n      <td>en</td>\n      <td>NaN</td>\n      <td>0</td>\n    </tr>\n    <tr>\n      <th>47231</th>\n      <td>Republican</td>\n      <td>RepRickAllen</td>\n      <td>Please join me in thanking the brave men and w...</td>\n      <td>0.656357</td>\n      <td>0.001712</td>\n      <td>2.910000</td>\n      <td>1.001715</td>\n      <td>10</td>\n      <td>en</td>\n      <td>GA12 BackTheBlue</td>\n      <td>2</td>\n    </tr>\n  </tbody>\n</table>\n</div>"
     },
     "execution_count": 3,
     "metadata": {},
     "output_type": "execute_result"
    }
   ],
   "source": [
    "# Load results\n",
    "result_path = './tweets_valence_arousal.csv'\n",
    "data_df = pd.read_csv(result_path)\n",
    "data_df.sample(3)"
   ]
  },
  {
   "cell_type": "markdown",
   "metadata": {
    "pycharm": {
     "name": "#%% md\n"
    }
   },
   "source": [
    "Highest positive valence"
   ]
  },
  {
   "cell_type": "code",
   "execution_count": 4,
   "metadata": {
    "pycharm": {
     "name": "#%%\n"
    }
   },
   "outputs": [
    {
     "data": {
      "text/plain": "            Party           Handle  \\\n47660  Republican  RepTomMacArthur   \n6657     Democrat   StaceyPlaskett   \n26265    Democrat    repdavidscott   \n\n                                                   Tweet   valence   arousal  \\\n47660  Merry Christmas! May the spirit of Christmas f...  0.854281  0.413379   \n6657   RT @RepBonnie: So thankful for your kind birth...  0.844115  0.508971   \n26265  Merry Christmas and happy holidays from our fa...  0.842891  0.433364   \n\n       valence_ratio  arousal_ratio  token language hashtags  hashtags_length  \n47660         6.8625       1.704678     10       en      NaN                0  \n6657          6.4150       2.036538     13       en      NaN                0  \n26265         6.3650       1.764800     11       en      NaN                0  ",
      "text/html": "<div>\n<style scoped>\n    .dataframe tbody tr th:only-of-type {\n        vertical-align: middle;\n    }\n\n    .dataframe tbody tr th {\n        vertical-align: top;\n    }\n\n    .dataframe thead th {\n        text-align: right;\n    }\n</style>\n<table border=\"1\" class=\"dataframe\">\n  <thead>\n    <tr style=\"text-align: right;\">\n      <th></th>\n      <th>Party</th>\n      <th>Handle</th>\n      <th>Tweet</th>\n      <th>valence</th>\n      <th>arousal</th>\n      <th>valence_ratio</th>\n      <th>arousal_ratio</th>\n      <th>token</th>\n      <th>language</th>\n      <th>hashtags</th>\n      <th>hashtags_length</th>\n    </tr>\n  </thead>\n  <tbody>\n    <tr>\n      <th>47660</th>\n      <td>Republican</td>\n      <td>RepTomMacArthur</td>\n      <td>Merry Christmas! May the spirit of Christmas f...</td>\n      <td>0.854281</td>\n      <td>0.413379</td>\n      <td>6.8625</td>\n      <td>1.704678</td>\n      <td>10</td>\n      <td>en</td>\n      <td>NaN</td>\n      <td>0</td>\n    </tr>\n    <tr>\n      <th>6657</th>\n      <td>Democrat</td>\n      <td>StaceyPlaskett</td>\n      <td>RT @RepBonnie: So thankful for your kind birth...</td>\n      <td>0.844115</td>\n      <td>0.508971</td>\n      <td>6.4150</td>\n      <td>2.036538</td>\n      <td>13</td>\n      <td>en</td>\n      <td>NaN</td>\n      <td>0</td>\n    </tr>\n    <tr>\n      <th>26265</th>\n      <td>Democrat</td>\n      <td>repdavidscott</td>\n      <td>Merry Christmas and happy holidays from our fa...</td>\n      <td>0.842891</td>\n      <td>0.433364</td>\n      <td>6.3650</td>\n      <td>1.764800</td>\n      <td>11</td>\n      <td>en</td>\n      <td>NaN</td>\n      <td>0</td>\n    </tr>\n  </tbody>\n</table>\n</div>"
     },
     "execution_count": 4,
     "metadata": {},
     "output_type": "execute_result"
    }
   ],
   "source": [
    "data_df.sort_values('valence', ascending=False)[:3]"
   ]
  },
  {
   "cell_type": "markdown",
   "metadata": {
    "pycharm": {
     "name": "#%% md\n"
    }
   },
   "source": [
    "Highest negative valence"
   ]
  },
  {
   "cell_type": "code",
   "execution_count": 5,
   "metadata": {
    "pycharm": {
     "name": "#%%\n"
    }
   },
   "outputs": [
    {
     "data": {
      "text/plain": "            Party        Handle  \\\n2849     Democrat      RepJoshG   \n41019    Democrat  RepMikeHonda   \n72941  Republican   JudgeTedPoe   \n\n                                                   Tweet   valence   arousal  \\\n2849   Lung Cancer is the second-leading cause of dea... -0.792815  0.320885   \n41019  Rape is rape. And rape is wrong. https://t.co/... -0.769053  0.540827   \n72941  RT @lindsayaellis: Nancy Downing at TAMU bring... -0.747793  0.679744   \n\n       valence_ratio  arousal_ratio  token language hashtags  hashtags_length  \n2849        0.207185       1.472505     10       en  433aday                1  \n41019       0.230947       2.177829      4       en      NaN                0  \n72941       0.252207       3.122500     15       en      NaN                0  ",
      "text/html": "<div>\n<style scoped>\n    .dataframe tbody tr th:only-of-type {\n        vertical-align: middle;\n    }\n\n    .dataframe tbody tr th {\n        vertical-align: top;\n    }\n\n    .dataframe thead th {\n        text-align: right;\n    }\n</style>\n<table border=\"1\" class=\"dataframe\">\n  <thead>\n    <tr style=\"text-align: right;\">\n      <th></th>\n      <th>Party</th>\n      <th>Handle</th>\n      <th>Tweet</th>\n      <th>valence</th>\n      <th>arousal</th>\n      <th>valence_ratio</th>\n      <th>arousal_ratio</th>\n      <th>token</th>\n      <th>language</th>\n      <th>hashtags</th>\n      <th>hashtags_length</th>\n    </tr>\n  </thead>\n  <tbody>\n    <tr>\n      <th>2849</th>\n      <td>Democrat</td>\n      <td>RepJoshG</td>\n      <td>Lung Cancer is the second-leading cause of dea...</td>\n      <td>-0.792815</td>\n      <td>0.320885</td>\n      <td>0.207185</td>\n      <td>1.472505</td>\n      <td>10</td>\n      <td>en</td>\n      <td>433aday</td>\n      <td>1</td>\n    </tr>\n    <tr>\n      <th>41019</th>\n      <td>Democrat</td>\n      <td>RepMikeHonda</td>\n      <td>Rape is rape. And rape is wrong. https://t.co/...</td>\n      <td>-0.769053</td>\n      <td>0.540827</td>\n      <td>0.230947</td>\n      <td>2.177829</td>\n      <td>4</td>\n      <td>en</td>\n      <td>NaN</td>\n      <td>0</td>\n    </tr>\n    <tr>\n      <th>72941</th>\n      <td>Republican</td>\n      <td>JudgeTedPoe</td>\n      <td>RT @lindsayaellis: Nancy Downing at TAMU bring...</td>\n      <td>-0.747793</td>\n      <td>0.679744</td>\n      <td>0.252207</td>\n      <td>3.122500</td>\n      <td>15</td>\n      <td>en</td>\n      <td>NaN</td>\n      <td>0</td>\n    </tr>\n  </tbody>\n</table>\n</div>"
     },
     "execution_count": 5,
     "metadata": {},
     "output_type": "execute_result"
    }
   ],
   "source": [
    "data_df.sort_values('valence', ascending=True)[:3]"
   ]
  },
  {
   "cell_type": "markdown",
   "metadata": {
    "pycharm": {
     "name": "#%% md\n"
    }
   },
   "source": [
    "Highest positive arousal"
   ]
  },
  {
   "cell_type": "code",
   "execution_count": 6,
   "metadata": {
    "pycharm": {
     "name": "#%%\n"
    }
   },
   "outputs": [
    {
     "data": {
      "text/plain": "            Party           Handle  \\\n24657    Democrat  RepBrendanBoyle   \n82688  Republican      RepPeteKing   \n80170  Republican     RepPeteOlson   \n\n                                                   Tweet   valence   arousal  \\\n24657  The last 24 hours in Philly sports: Flyers win...  0.784134  0.737533   \n82688  .@NotreDame Women's Basketball Team win NCAA C...  0.779614  0.712023   \n80170  Wishing a happy 70th birthday to the @USAFRese...  0.688651  0.709091   \n\n       valence_ratio  arousal_ratio  token language         hashtags  \\\n24657       4.632500         3.8100     13       en  CityofChampions   \n82688       4.537500         3.4725     13       en              NaN   \n80170       3.211832         3.4375     10       en              NaN   \n\n       hashtags_length  \n24657                1  \n82688                0  \n80170                0  ",
      "text/html": "<div>\n<style scoped>\n    .dataframe tbody tr th:only-of-type {\n        vertical-align: middle;\n    }\n\n    .dataframe tbody tr th {\n        vertical-align: top;\n    }\n\n    .dataframe thead th {\n        text-align: right;\n    }\n</style>\n<table border=\"1\" class=\"dataframe\">\n  <thead>\n    <tr style=\"text-align: right;\">\n      <th></th>\n      <th>Party</th>\n      <th>Handle</th>\n      <th>Tweet</th>\n      <th>valence</th>\n      <th>arousal</th>\n      <th>valence_ratio</th>\n      <th>arousal_ratio</th>\n      <th>token</th>\n      <th>language</th>\n      <th>hashtags</th>\n      <th>hashtags_length</th>\n    </tr>\n  </thead>\n  <tbody>\n    <tr>\n      <th>24657</th>\n      <td>Democrat</td>\n      <td>RepBrendanBoyle</td>\n      <td>The last 24 hours in Philly sports: Flyers win...</td>\n      <td>0.784134</td>\n      <td>0.737533</td>\n      <td>4.632500</td>\n      <td>3.8100</td>\n      <td>13</td>\n      <td>en</td>\n      <td>CityofChampions</td>\n      <td>1</td>\n    </tr>\n    <tr>\n      <th>82688</th>\n      <td>Republican</td>\n      <td>RepPeteKing</td>\n      <td>.@NotreDame Women's Basketball Team win NCAA C...</td>\n      <td>0.779614</td>\n      <td>0.712023</td>\n      <td>4.537500</td>\n      <td>3.4725</td>\n      <td>13</td>\n      <td>en</td>\n      <td>NaN</td>\n      <td>0</td>\n    </tr>\n    <tr>\n      <th>80170</th>\n      <td>Republican</td>\n      <td>RepPeteOlson</td>\n      <td>Wishing a happy 70th birthday to the @USAFRese...</td>\n      <td>0.688651</td>\n      <td>0.709091</td>\n      <td>3.211832</td>\n      <td>3.4375</td>\n      <td>10</td>\n      <td>en</td>\n      <td>NaN</td>\n      <td>0</td>\n    </tr>\n  </tbody>\n</table>\n</div>"
     },
     "execution_count": 6,
     "metadata": {},
     "output_type": "execute_result"
    }
   ],
   "source": [
    "data_df.sort_values('arousal', ascending=False)[:3]"
   ]
  },
  {
   "cell_type": "markdown",
   "metadata": {
    "pycharm": {
     "name": "#%% md\n"
    }
   },
   "source": [
    "Highest negative arousal"
   ]
  },
  {
   "cell_type": "code",
   "execution_count": 7,
   "metadata": {
    "pycharm": {
     "name": "#%%\n"
    }
   },
   "outputs": [
    {
     "data": {
      "text/plain": "            Party         Handle  \\\n1253     Democrat   RepTomSuozzi   \n67385  Republican  RepBillFlores   \n86060  Republican      GOPpolicy   \n\n                                                   Tweet   valence   arousal  \\\n1253   The residents of Queens &amp; LI deserve to li...  0.492386 -0.615754   \n67385  RT @SpeakerRyan: We are just 5 days away from ... -0.488196 -0.609259   \n86060  RT @HouseGOP: \"Our massive tax cuts provide tr... -0.425889 -0.600400   \n\n       valence_ratio  arousal_ratio  token language hashtags  hashtags_length  \n1253        1.970000       0.384246     15       fr      NaN                0  \n67385       0.511804       0.390741     16       so      NaN                0  \n86060       0.574111       0.399600     15       en      NaN                0  ",
      "text/html": "<div>\n<style scoped>\n    .dataframe tbody tr th:only-of-type {\n        vertical-align: middle;\n    }\n\n    .dataframe tbody tr th {\n        vertical-align: top;\n    }\n\n    .dataframe thead th {\n        text-align: right;\n    }\n</style>\n<table border=\"1\" class=\"dataframe\">\n  <thead>\n    <tr style=\"text-align: right;\">\n      <th></th>\n      <th>Party</th>\n      <th>Handle</th>\n      <th>Tweet</th>\n      <th>valence</th>\n      <th>arousal</th>\n      <th>valence_ratio</th>\n      <th>arousal_ratio</th>\n      <th>token</th>\n      <th>language</th>\n      <th>hashtags</th>\n      <th>hashtags_length</th>\n    </tr>\n  </thead>\n  <tbody>\n    <tr>\n      <th>1253</th>\n      <td>Democrat</td>\n      <td>RepTomSuozzi</td>\n      <td>The residents of Queens &amp;amp; LI deserve to li...</td>\n      <td>0.492386</td>\n      <td>-0.615754</td>\n      <td>1.970000</td>\n      <td>0.384246</td>\n      <td>15</td>\n      <td>fr</td>\n      <td>NaN</td>\n      <td>0</td>\n    </tr>\n    <tr>\n      <th>67385</th>\n      <td>Republican</td>\n      <td>RepBillFlores</td>\n      <td>RT @SpeakerRyan: We are just 5 days away from ...</td>\n      <td>-0.488196</td>\n      <td>-0.609259</td>\n      <td>0.511804</td>\n      <td>0.390741</td>\n      <td>16</td>\n      <td>so</td>\n      <td>NaN</td>\n      <td>0</td>\n    </tr>\n    <tr>\n      <th>86060</th>\n      <td>Republican</td>\n      <td>GOPpolicy</td>\n      <td>RT @HouseGOP: \"Our massive tax cuts provide tr...</td>\n      <td>-0.425889</td>\n      <td>-0.600400</td>\n      <td>0.574111</td>\n      <td>0.399600</td>\n      <td>15</td>\n      <td>en</td>\n      <td>NaN</td>\n      <td>0</td>\n    </tr>\n  </tbody>\n</table>\n</div>"
     },
     "execution_count": 7,
     "metadata": {},
     "output_type": "execute_result"
    }
   ],
   "source": [
    "data_df.sort_values('arousal', ascending=True)[:3]"
   ]
  },
  {
   "cell_type": "markdown",
   "metadata": {
    "pycharm": {
     "name": "#%% md\n"
    }
   },
   "source": [
    "Highest valence x arousal"
   ]
  },
  {
   "cell_type": "code",
   "execution_count": 8,
   "metadata": {
    "pycharm": {
     "name": "#%%\n"
    }
   },
   "outputs": [
    {
     "data": {
      "text/plain": "            Party           Handle  \\\n42734  Republican      RepJimBanks   \n24657    Democrat  RepBrendanBoyle   \n41731    Democrat     keithellison   \n\n                                                   Tweet   valence   arousal  \\\n42734  Happy 60th birthday to my mom! Like most mothe...  0.827064  0.702381   \n24657  The last 24 hours in Philly sports: Flyers win...  0.784134  0.737533   \n41731  RT @Jacob_Frey: No city does #MayDay like MPLS...  0.813171  0.696049   \n\n       valence_ratio  arousal_ratio  token language         hashtags  \\\n42734         5.7825           3.36     12       en              NaN   \n24657         4.6325           3.81     13       en  CityofChampions   \n41731         5.3525           3.29     14       en           MayDay   \n\n       hashtags_length  \n42734                0  \n24657                1  \n41731                1  ",
      "text/html": "<div>\n<style scoped>\n    .dataframe tbody tr th:only-of-type {\n        vertical-align: middle;\n    }\n\n    .dataframe tbody tr th {\n        vertical-align: top;\n    }\n\n    .dataframe thead th {\n        text-align: right;\n    }\n</style>\n<table border=\"1\" class=\"dataframe\">\n  <thead>\n    <tr style=\"text-align: right;\">\n      <th></th>\n      <th>Party</th>\n      <th>Handle</th>\n      <th>Tweet</th>\n      <th>valence</th>\n      <th>arousal</th>\n      <th>valence_ratio</th>\n      <th>arousal_ratio</th>\n      <th>token</th>\n      <th>language</th>\n      <th>hashtags</th>\n      <th>hashtags_length</th>\n    </tr>\n  </thead>\n  <tbody>\n    <tr>\n      <th>42734</th>\n      <td>Republican</td>\n      <td>RepJimBanks</td>\n      <td>Happy 60th birthday to my mom! Like most mothe...</td>\n      <td>0.827064</td>\n      <td>0.702381</td>\n      <td>5.7825</td>\n      <td>3.36</td>\n      <td>12</td>\n      <td>en</td>\n      <td>NaN</td>\n      <td>0</td>\n    </tr>\n    <tr>\n      <th>24657</th>\n      <td>Democrat</td>\n      <td>RepBrendanBoyle</td>\n      <td>The last 24 hours in Philly sports: Flyers win...</td>\n      <td>0.784134</td>\n      <td>0.737533</td>\n      <td>4.6325</td>\n      <td>3.81</td>\n      <td>13</td>\n      <td>en</td>\n      <td>CityofChampions</td>\n      <td>1</td>\n    </tr>\n    <tr>\n      <th>41731</th>\n      <td>Democrat</td>\n      <td>keithellison</td>\n      <td>RT @Jacob_Frey: No city does #MayDay like MPLS...</td>\n      <td>0.813171</td>\n      <td>0.696049</td>\n      <td>5.3525</td>\n      <td>3.29</td>\n      <td>14</td>\n      <td>en</td>\n      <td>MayDay</td>\n      <td>1</td>\n    </tr>\n  </tbody>\n</table>\n</div>"
     },
     "execution_count": 8,
     "metadata": {},
     "output_type": "execute_result"
    }
   ],
   "source": [
    "data_df.iloc[(data_df['valence']*data_df['arousal']).sort_values(ascending=False)[:3].index]"
   ]
  },
  {
   "cell_type": "markdown",
   "metadata": {
    "pycharm": {
     "name": "#%% md\n"
    }
   },
   "source": [
    "Lowest valence x arousal"
   ]
  },
  {
   "cell_type": "code",
   "execution_count": 9,
   "metadata": {
    "pycharm": {
     "name": "#%%\n"
    }
   },
   "outputs": [
    {
     "data": {
      "text/plain": "            Party          Handle  \\\n72941  Republican     JudgeTedPoe   \n65808  Republican   RepJeffDuncan   \n64122  Republican  HerreraBeutler   \n\n                                                   Tweet   valence   arousal  \\\n72941  RT @lindsayaellis: Nancy Downing at TAMU bring... -0.747793  0.679744   \n65808  If police pick up an illegal alien &amp; alleg... -0.671705  0.703484   \n64122  I’m pleased we were able to secure a 2-year fu...  0.757429 -0.577998   \n\n       valence_ratio  arousal_ratio  token language hashtags  hashtags_length  \n72941       0.252207       3.122500     15       en      NaN                0  \n65808       0.328295       3.372500     15       en      NaN                0  \n64122       4.122500       0.422002     13       en      NaN                0  ",
      "text/html": "<div>\n<style scoped>\n    .dataframe tbody tr th:only-of-type {\n        vertical-align: middle;\n    }\n\n    .dataframe tbody tr th {\n        vertical-align: top;\n    }\n\n    .dataframe thead th {\n        text-align: right;\n    }\n</style>\n<table border=\"1\" class=\"dataframe\">\n  <thead>\n    <tr style=\"text-align: right;\">\n      <th></th>\n      <th>Party</th>\n      <th>Handle</th>\n      <th>Tweet</th>\n      <th>valence</th>\n      <th>arousal</th>\n      <th>valence_ratio</th>\n      <th>arousal_ratio</th>\n      <th>token</th>\n      <th>language</th>\n      <th>hashtags</th>\n      <th>hashtags_length</th>\n    </tr>\n  </thead>\n  <tbody>\n    <tr>\n      <th>72941</th>\n      <td>Republican</td>\n      <td>JudgeTedPoe</td>\n      <td>RT @lindsayaellis: Nancy Downing at TAMU bring...</td>\n      <td>-0.747793</td>\n      <td>0.679744</td>\n      <td>0.252207</td>\n      <td>3.122500</td>\n      <td>15</td>\n      <td>en</td>\n      <td>NaN</td>\n      <td>0</td>\n    </tr>\n    <tr>\n      <th>65808</th>\n      <td>Republican</td>\n      <td>RepJeffDuncan</td>\n      <td>If police pick up an illegal alien &amp;amp; alleg...</td>\n      <td>-0.671705</td>\n      <td>0.703484</td>\n      <td>0.328295</td>\n      <td>3.372500</td>\n      <td>15</td>\n      <td>en</td>\n      <td>NaN</td>\n      <td>0</td>\n    </tr>\n    <tr>\n      <th>64122</th>\n      <td>Republican</td>\n      <td>HerreraBeutler</td>\n      <td>I’m pleased we were able to secure a 2-year fu...</td>\n      <td>0.757429</td>\n      <td>-0.577998</td>\n      <td>4.122500</td>\n      <td>0.422002</td>\n      <td>13</td>\n      <td>en</td>\n      <td>NaN</td>\n      <td>0</td>\n    </tr>\n  </tbody>\n</table>\n</div>"
     },
     "execution_count": 9,
     "metadata": {},
     "output_type": "execute_result"
    }
   ],
   "source": [
    "data_df.iloc[(data_df['valence']*data_df['arousal']).sort_values(ascending=True)[:3].index]"
   ]
  },
  {
   "cell_type": "markdown",
   "metadata": {
    "pycharm": {
     "name": "#%% md\n"
    }
   },
   "source": [
    "## Parties"
   ]
  },
  {
   "cell_type": "code",
   "execution_count": 10,
   "metadata": {
    "pycharm": {
     "name": "#%%\n"
    }
   },
   "outputs": [],
   "source": [
    "party_df = data_df[['Party', 'valence', 'arousal']]"
   ]
  },
  {
   "cell_type": "code",
   "execution_count": 11,
   "metadata": {
    "pycharm": {
     "name": "#%%\n"
    }
   },
   "outputs": [
    {
     "data": {
      "text/plain": "             valence   arousal\nParty                         \nDemocrat    0.247495  0.076462\nRepublican  0.270808  0.048434",
      "text/html": "<div>\n<style scoped>\n    .dataframe tbody tr th:only-of-type {\n        vertical-align: middle;\n    }\n\n    .dataframe tbody tr th {\n        vertical-align: top;\n    }\n\n    .dataframe thead th {\n        text-align: right;\n    }\n</style>\n<table border=\"1\" class=\"dataframe\">\n  <thead>\n    <tr style=\"text-align: right;\">\n      <th></th>\n      <th>valence</th>\n      <th>arousal</th>\n    </tr>\n    <tr>\n      <th>Party</th>\n      <th></th>\n      <th></th>\n    </tr>\n  </thead>\n  <tbody>\n    <tr>\n      <th>Democrat</th>\n      <td>0.247495</td>\n      <td>0.076462</td>\n    </tr>\n    <tr>\n      <th>Republican</th>\n      <td>0.270808</td>\n      <td>0.048434</td>\n    </tr>\n  </tbody>\n</table>\n</div>"
     },
     "execution_count": 11,
     "metadata": {},
     "output_type": "execute_result"
    }
   ],
   "source": [
    "party_df.groupby('Party').mean()"
   ]
  },
  {
   "cell_type": "code",
   "execution_count": 12,
   "metadata": {
    "pycharm": {
     "name": "#%%\n"
    }
   },
   "outputs": [
    {
     "data": {
      "text/plain": "<Figure size 1152x576 with 2 Axes>",
      "image/png": "[encoded data removed]"
     },
     "metadata": {
      "needs_background": "light"
     },
     "output_type": "display_data"
    }
   ],
   "source": [
    "fig, axs = plt.subplots(1, 2, figsize=(16, 8))\n",
    "axs = axs.ravel()\n",
    "\n",
    "sns.boxplot(x='Party', y='valence', data=party_df, ax=axs[0])\n",
    "axs[0].set_title('Valence')\n",
    "\n",
    "sns.boxplot(x='Party', y='arousal', data=party_df, ax=axs[1])\n",
    "axs[1].set_title('Arousal')\n",
    "\n",
    "plt.show()"
   ]
  },
  {
   "cell_type": "markdown",
   "metadata": {
    "pycharm": {
     "name": "#%% md\n"
    }
   },
   "source": [
    "## Handles"
   ]
  },
  {
   "cell_type": "code",
   "execution_count": 13,
   "metadata": {
    "pycharm": {
     "name": "#%%\n"
    }
   },
   "outputs": [],
   "source": [
    "democrat_df = data_df[data_df.Party=='Democrat'][['Handle', 'valence', 'arousal']]"
   ]
  },
  {
   "cell_type": "code",
   "execution_count": 14,
   "metadata": {
    "pycharm": {
     "name": "#%%\n"
    }
   },
   "outputs": [
    {
     "data": {
      "text/plain": "                  valence   arousal\nHandle                             \nAGBecerra        0.218377  0.072294\nAlanGrayson      0.240929  0.094739\nAnthonyBrownMD4  0.290258  0.106450\nBennieGThompson  0.220965  0.013076\nBettyMcCollum04  0.247064  0.065881\n...                   ...       ...\nrepjohnlewis     0.218930  0.085585\nrepmarkpocan     0.251393  0.042309\nrepsandylevin    0.105174 -0.038604\nrosadelauro      0.254198  0.089441\nsethmoulton      0.251979  0.112344\n\n[211 rows x 2 columns]",
      "text/html": "<div>\n<style scoped>\n    .dataframe tbody tr th:only-of-type {\n        vertical-align: middle;\n    }\n\n    .dataframe tbody tr th {\n        vertical-align: top;\n    }\n\n    .dataframe thead th {\n        text-align: right;\n    }\n</style>\n<table border=\"1\" class=\"dataframe\">\n  <thead>\n    <tr style=\"text-align: right;\">\n      <th></th>\n      <th>valence</th>\n      <th>arousal</th>\n    </tr>\n    <tr>\n      <th>Handle</th>\n      <th></th>\n      <th></th>\n    </tr>\n  </thead>\n  <tbody>\n    <tr>\n      <th>AGBecerra</th>\n      <td>0.218377</td>\n      <td>0.072294</td>\n    </tr>\n    <tr>\n      <th>AlanGrayson</th>\n      <td>0.240929</td>\n      <td>0.094739</td>\n    </tr>\n    <tr>\n      <th>AnthonyBrownMD4</th>\n      <td>0.290258</td>\n      <td>0.106450</td>\n    </tr>\n    <tr>\n      <th>BennieGThompson</th>\n      <td>0.220965</td>\n      <td>0.013076</td>\n    </tr>\n    <tr>\n      <th>BettyMcCollum04</th>\n      <td>0.247064</td>\n      <td>0.065881</td>\n    </tr>\n    <tr>\n      <th>...</th>\n      <td>...</td>\n      <td>...</td>\n    </tr>\n    <tr>\n      <th>repjohnlewis</th>\n      <td>0.218930</td>\n      <td>0.085585</td>\n    </tr>\n    <tr>\n      <th>repmarkpocan</th>\n      <td>0.251393</td>\n      <td>0.042309</td>\n    </tr>\n    <tr>\n      <th>repsandylevin</th>\n      <td>0.105174</td>\n      <td>-0.038604</td>\n    </tr>\n    <tr>\n      <th>rosadelauro</th>\n      <td>0.254198</td>\n      <td>0.089441</td>\n    </tr>\n    <tr>\n      <th>sethmoulton</th>\n      <td>0.251979</td>\n      <td>0.112344</td>\n    </tr>\n  </tbody>\n</table>\n<p>211 rows × 2 columns</p>\n</div>"
     },
     "execution_count": 14,
     "metadata": {},
     "output_type": "execute_result"
    }
   ],
   "source": [
    "democrat_handle = democrat_df.groupby('Handle').mean()\n",
    "democrat_handle"
   ]
  },
  {
   "cell_type": "code",
   "execution_count": 15,
   "metadata": {
    "pycharm": {
     "name": "#%%\n"
    }
   },
   "outputs": [],
   "source": [
    "republican_df = data_df[data_df.Party=='Republican'][['Handle', 'valence', 'arousal']]"
   ]
  },
  {
   "cell_type": "code",
   "execution_count": 16,
   "metadata": {
    "pycharm": {
     "name": "#%%\n"
    }
   },
   "outputs": [
    {
     "data": {
      "text/plain": "                  valence   arousal\nHandle                             \nAustinScottGA08  0.323059  0.056813\nConawayTX11      0.302563  0.043653\nCongCulberson    0.252002  0.110021\nCongMikeSimpson  0.347598  0.104213\nCongressmanDan   0.311671  0.060383\n...                   ...       ...\nrepdonyoung      0.366960  0.083648\nrepgregwalden    0.309190  0.046117\nreplouiegohmert  0.263954  0.024564\nreppittenger     0.226024  0.055361\nvirginiafoxx     0.369606  0.114568\n\n[222 rows x 2 columns]",
      "text/html": "<div>\n<style scoped>\n    .dataframe tbody tr th:only-of-type {\n        vertical-align: middle;\n    }\n\n    .dataframe tbody tr th {\n        vertical-align: top;\n    }\n\n    .dataframe thead th {\n        text-align: right;\n    }\n</style>\n<table border=\"1\" class=\"dataframe\">\n  <thead>\n    <tr style=\"text-align: right;\">\n      <th></th>\n      <th>valence</th>\n      <th>arousal</th>\n    </tr>\n    <tr>\n      <th>Handle</th>\n      <th></th>\n      <th></th>\n    </tr>\n  </thead>\n  <tbody>\n    <tr>\n      <th>AustinScottGA08</th>\n      <td>0.323059</td>\n      <td>0.056813</td>\n    </tr>\n    <tr>\n      <th>ConawayTX11</th>\n      <td>0.302563</td>\n      <td>0.043653</td>\n    </tr>\n    <tr>\n      <th>CongCulberson</th>\n      <td>0.252002</td>\n      <td>0.110021</td>\n    </tr>\n    <tr>\n      <th>CongMikeSimpson</th>\n      <td>0.347598</td>\n      <td>0.104213</td>\n    </tr>\n    <tr>\n      <th>CongressmanDan</th>\n      <td>0.311671</td>\n      <td>0.060383</td>\n    </tr>\n    <tr>\n      <th>...</th>\n      <td>...</td>\n      <td>...</td>\n    </tr>\n    <tr>\n      <th>repdonyoung</th>\n      <td>0.366960</td>\n      <td>0.083648</td>\n    </tr>\n    <tr>\n      <th>repgregwalden</th>\n      <td>0.309190</td>\n      <td>0.046117</td>\n    </tr>\n    <tr>\n      <th>replouiegohmert</th>\n      <td>0.263954</td>\n      <td>0.024564</td>\n    </tr>\n    <tr>\n      <th>reppittenger</th>\n      <td>0.226024</td>\n      <td>0.055361</td>\n    </tr>\n    <tr>\n      <th>virginiafoxx</th>\n      <td>0.369606</td>\n      <td>0.114568</td>\n    </tr>\n  </tbody>\n</table>\n<p>222 rows × 2 columns</p>\n</div>"
     },
     "execution_count": 16,
     "metadata": {},
     "output_type": "execute_result"
    }
   ],
   "source": [
    "republican_handle = republican_df.groupby('Handle').mean()\n",
    "republican_handle"
   ]
  },
  {
   "cell_type": "markdown",
   "metadata": {
    "pycharm": {
     "name": "#%% md\n"
    }
   },
   "source": [
    "## Hashtag"
   ]
  },
  {
   "cell_type": "code",
   "execution_count": 17,
   "metadata": {
    "pycharm": {
     "name": "#%%\n"
    }
   },
   "outputs": [],
   "source": [
    "\"\"\"\n",
    "Reference: https://github.com/elliottash/emotionmeter/blob/c75ae44974d476e10bdef59128bb2867a77f197b/emotionmeter.py#L180\n",
    "\"\"\"\n",
    "def calc_hashtags_odd_ratio_for_party(df, col_name: str, party: str):\n",
    "    df = df[(df['language'] == 'en') & (df['token'] > 4)]\n",
    "    den = len(df['hashtags'])\n",
    "\n",
    "    if \"Party\" not in df.columns:\n",
    "        raise Exception(\"df must have column Party!\")\n",
    "    if party not in df[\"Party\"].unique():\n",
    "        raise Exception(\"this party\", party, \"is not in the column Party!\")\n",
    "\n",
    "    filtered_df = df[(df['language'] == 'en') & (df['token'] > 4) & (df['Party'] == party)]\n",
    "    den_filtered = len(filtered_df[\"hashtags\"])\n",
    "\n",
    "    odd_ratio = []\n",
    "    hashtags = [str(hashtag) for hashtag in list(df[\"hashtags\"]) if str(hashtag).strip() != \"\"]\n",
    "\n",
    "    # compute the odd-ratio for this party with positive:negative ratios against other types of hashtags\n",
    "    for hashtag in hashtags:\n",
    "        num = (1 + sum(pd.Series(df['hashtags']).str.contains(hashtag)))\n",
    "        num_filtered = (1 + sum(pd.Series(filtered_df['hashtags']).str.contains(hashtag)))\n",
    "        try:\n",
    "            p = num_filtered / den_filtered\n",
    "            q = (num - num_filtered) / (den - den_filtered)\n",
    "            odd_ratio.append((p / (1 - p)) / (q / (1 - q)))\n",
    "        except:\n",
    "            odd_ratio.append(-1)\n",
    "\n",
    "    return pd.DataFrame({\"hashtag\": hashtags, f\"{col_name}_odd_ratio\": odd_ratio})\n"
   ]
  },
  {
   "cell_type": "code",
   "execution_count": null,
   "metadata": {
    "pycharm": {
     "name": "#%%\n",
     "is_executing": true
    }
   },
   "outputs": [],
   "source": [
    "democrat_valence_hashtag = calc_hashtags_odd_ratio_for_party(data_df, col_name='valence_ratio', party='Democrat')\n",
    "democrat_arousal_hashtag = calc_hashtags_odd_ratio_for_party(data_df, col_name='arousal_ratio', party='Democrat')\n",
    "republican_valence_hashtag = calc_hashtags_odd_ratio_for_party(data_df, col_name='valence_ratio', party='Republican')\n",
    "republican_arousal_hashtag = calc_hashtags_odd_ratio_for_party(data_df, col_name='arousal_ratio', party='Republican')"
   ]
  },
  {
   "cell_type": "markdown",
   "source": [
    "Democrat"
   ],
   "metadata": {
    "collapsed": false,
    "pycharm": {
     "name": "#%% md\n"
    }
   }
  },
  {
   "cell_type": "code",
   "execution_count": null,
   "outputs": [],
   "source": [
    "democrat_valence_hashtag.sort_values('valence_ratio', ascending=False)['hashtag'][:5]"
   ],
   "metadata": {
    "collapsed": false,
    "pycharm": {
     "name": "#%%\n",
     "is_executing": true
    }
   }
  },
  {
   "cell_type": "code",
   "execution_count": null,
   "outputs": [],
   "source": [
    "democrat_valence_hashtag.sort_values('valence_ratio', ascending=True)['hashtag'][:5]"
   ],
   "metadata": {
    "collapsed": false,
    "pycharm": {
     "name": "#%%\n",
     "is_executing": true
    }
   }
  },
  {
   "cell_type": "code",
   "execution_count": null,
   "outputs": [],
   "source": [
    "democrat_arousal_hashtag.sort_values('arousal_ratio', ascending=False)['hashtag'][:5]"
   ],
   "metadata": {
    "collapsed": false,
    "pycharm": {
     "name": "#%%\n",
     "is_executing": true
    }
   }
  },
  {
   "cell_type": "code",
   "execution_count": null,
   "outputs": [],
   "source": [
    "democrat_arousal_hashtag.sort_values('arousal_ratio', ascending=True)['hashtag'][:5]"
   ],
   "metadata": {
    "collapsed": false,
    "pycharm": {
     "name": "#%%\n",
     "is_executing": true
    }
   }
  },
  {
   "cell_type": "markdown",
   "source": [
    "Republican"
   ],
   "metadata": {
    "collapsed": false,
    "pycharm": {
     "name": "#%% md\n"
    }
   }
  },
  {
   "cell_type": "code",
   "execution_count": null,
   "outputs": [],
   "source": [
    "republican_valence_hashtag.sort_values('valence_ratio', ascending=False)['hashtag'][:5]"
   ],
   "metadata": {
    "collapsed": false,
    "pycharm": {
     "name": "#%%\n",
     "is_executing": true
    }
   }
  },
  {
   "cell_type": "code",
   "execution_count": null,
   "outputs": [],
   "source": [
    "republican_valence_hashtag.sort_values('valence_ratio', ascending=True)['hashtag'][:5]"
   ],
   "metadata": {
    "collapsed": false,
    "pycharm": {
     "name": "#%%\n",
     "is_executing": true
    }
   }
  },
  {
   "cell_type": "code",
   "execution_count": null,
   "outputs": [],
   "source": [
    "republican_arousal_hashtag.sort_values('arousal_ratio', ascending=False)['hashtag'][:5]"
   ],
   "metadata": {
    "collapsed": false,
    "pycharm": {
     "name": "#%%\n",
     "is_executing": true
    }
   }
  },
  {
   "cell_type": "code",
   "execution_count": null,
   "outputs": [],
   "source": [
    "republican_arousal_hashtag.sort_values('arousal_ratio', ascending=True)['hashtag'][:5]"
   ],
   "metadata": {
    "collapsed": false,
    "pycharm": {
     "name": "#%%\n",
     "is_executing": true
    }
   }
  },
  {
   "cell_type": "code",
   "execution_count": null,
   "outputs": [],
   "source": [],
   "metadata": {
    "collapsed": false,
    "pycharm": {
     "name": "#%%\n",
     "is_executing": true
    }
   }
  }
 ],
 "metadata": {
  "kernelspec": {
   "display_name": "Python 3 (ipykernel)",
   "language": "python",
   "name": "python3"
  },
  "language_info": {
   "codemirror_mode": {
    "name": "ipython",
    "version": 3
   },
   "file_extension": ".py",
   "mimetype": "text/x-python",
   "name": "python",
   "nbconvert_exporter": "python",
   "pygments_lexer": "ipython3",
   "version": "3.8.12"
  }
 },
 "nbformat": 4,
 "nbformat_minor": 1
}